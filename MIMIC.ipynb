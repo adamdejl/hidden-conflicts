{
 "cells": [
  {
   "cell_type": "code",
   "execution_count": null,
   "id": "861ea0ed-f429-4d88-9546-735e71ca21c5",
   "metadata": {
    "tags": []
   },
   "outputs": [],
   "source": [
    "import datetime\n",
    "import os\n",
    "import numpy as np\n",
    "import seaborn as sns\n",
    "import vaex\n",
    "import pandas as pd\n",
    "\n",
    "from math import pi\n",
    "from matplotlib_venn import venn3\n",
    "from matplotlib import pyplot as plt\n",
    "from tqdm import tqdm\n",
    "\n",
    "from sklearn.compose import ColumnTransformer\n",
    "from sklearn.pipeline import Pipeline\n",
    "from sklearn.preprocessing import RobustScaler, OneHotEncoder\n",
    "from sklearn.linear_model import LogisticRegression\n",
    "from sklearn.model_selection import train_test_split\n",
    "from sklearn.metrics import f1_score\n",
    "from sklearn.utils import resample\n",
    "\n",
    "vaex.settings.main.home = '/data/vaex'"
   ]
  },
  {
   "cell_type": "markdown",
   "id": "ea3c81ca-6131-4604-84cd-5e3ddf4107a2",
   "metadata": {
    "tags": []
   },
   "source": [
    "# Utilities"
   ]
  },
  {
   "cell_type": "markdown",
   "id": "86694d04-a669-4aa6-b856-28daa0dc0892",
   "metadata": {},
   "source": [
    "Utility functions for computing percentages and plotting circle progress plots."
   ]
  },
  {
   "cell_type": "code",
   "execution_count": null,
   "id": "4eba6f28-9426-4a8e-b683-82d6768d965f",
   "metadata": {
    "tags": []
   },
   "outputs": [],
   "source": [
    "def get_percentage(subset_size, total_size):\n",
    "    return round(100 * subset_size / total_size, 2)"
   ]
  },
  {
   "cell_type": "code",
   "execution_count": null,
   "id": "02a2001e-988a-4d6e-addf-ae8c5e897ecd",
   "metadata": {
    "tags": []
   },
   "outputs": [],
   "source": [
    "def plot_progress(percentage, color, title):\n",
    "    fig, ax = plt.subplots(figsize=(2, 2), subplot_kw={'projection': 'polar'}, dpi=100)\n",
    "    start_angle = 90\n",
    "    percentage_rad = 2 * pi * (percentage / 100)\n",
    "    start_rad = 2 * pi * start_angle / 360\n",
    "    \n",
    "    plt.xticks([])\n",
    "    plt.yticks([])\n",
    "    ax.spines.clear()\n",
    "    \n",
    "    ax.barh(1, percentage_rad, left=start_rad, height=1, color=color) \n",
    "    plt.ylim(-3, 3)\n",
    "    plt.text(0, -3, f\"{percentage}%\", ha='center', va='center', fontsize=15)\n",
    "    plt.title(title)\n",
    "    plt.show()"
   ]
  },
  {
   "cell_type": "markdown",
   "id": "68937661-ad04-48c7-8414-6d79ce34d6c3",
   "metadata": {
    "tags": []
   },
   "source": [
    "# Data Loading"
   ]
  },
  {
   "cell_type": "markdown",
   "id": "4b4061e9-f38b-4e02-9953-39743e01be2a",
   "metadata": {},
   "source": [
    "Loads the key tables from MIMIC-IV. Uses `open` for larger tables to conserve RAM (`open` reads the source file lazily) and `read_csv` for smaller tables (could be further optimised by specifying `convert=True` which converts the CSV to HDF5 after loading and frees the associated memory, but this is not currently needed). See the [I/O Kung-Fu](https://vaex.readthedocs.io/en/latest/guides/io.html) page in Vaex documentation for details on I/O operations."
   ]
  },
  {
   "cell_type": "code",
   "execution_count": null,
   "id": "c8a2f05d-1624-4c25-b83a-de834ab8a84f",
   "metadata": {
    "tags": []
   },
   "outputs": [],
   "source": [
    "# Load the patients from the MIMIC-IV database\n",
    "patients_df = vaex.open('mimic-iv-2.2/hosp/patients.csv')"
   ]
  },
  {
   "cell_type": "code",
   "execution_count": null,
   "id": "b94c331e-b256-4fae-9fa7-2ada7e50217a",
   "metadata": {
    "tags": []
   },
   "outputs": [],
   "source": [
    "# Load the data for hospital admissions\n",
    "admissions_df = vaex.open('mimic-iv-2.2/hosp/admissions.csv')"
   ]
  },
  {
   "cell_type": "code",
   "execution_count": null,
   "id": "97f60a7a-48f9-49bf-a25c-3c2c3cc35ab8",
   "metadata": {
    "tags": []
   },
   "outputs": [],
   "source": [
    "# Load the CXR metadata for the patients in the MIMIC-IV database\n",
    "cxr_df = vaex.open('mimic-cxr-2.0.0-metadata.csv')\n",
    "cxr_df = cxr_df[cxr_df.subject_id.isin(patients_df.subject_id.unique())]"
   ]
  },
  {
   "cell_type": "code",
   "execution_count": null,
   "id": "47db0bea-ebba-460d-9d5a-2b72cbc5a04b",
   "metadata": {
    "tags": []
   },
   "outputs": [],
   "source": [
    "# Load the note data for the patients in the MIMIC-IV database\n",
    "discharge_meta_df = vaex.read_csv('mimic-iv-note-deidentified-free-text-clinical-notes-2.2/note/discharge.csv')\n",
    "discharge_meta_df.drop(columns=[\"text\"], inplace=True)\n",
    "discharge_meta_df = discharge_meta_df[discharge_meta_df.subject_id.isin(patients_df.subject_id.unique())]\n",
    "radiology_meta_df = vaex.read_csv('mimic-iv-note-deidentified-free-text-clinical-notes-2.2/note/radiology.csv')\n",
    "radiology_meta_df.drop(columns=[\"text\"], inplace=True)\n",
    "radiology_meta_df = radiology_meta_df[radiology_meta_df.subject_id.isin(patients_df.subject_id.unique())]"
   ]
  },
  {
   "cell_type": "code",
   "execution_count": null,
   "id": "3fc0204b-260c-4908-9640-212f1597be99",
   "metadata": {},
   "outputs": [],
   "source": [
    "# Load the ICU data for the patients in the MIMIC-IV database\n",
    "chartevents_df = vaex.open('mimic-iv-2.2/icu/chartevents.csv')\n",
    "icustays_df = vaex.open('mimic-iv-2.2/icu/icustays.csv')\n",
    "items_df = vaex.read_csv('mimic-iv-2.2/icu/d_items.csv')"
   ]
  },
  {
   "cell_type": "code",
   "execution_count": null,
   "id": "1c120b1e-ed5b-4c96-b6fc-20dc4b59edfd",
   "metadata": {
    "tags": []
   },
   "outputs": [],
   "source": [
    "# Load the ICD diagnoses data for the patients in the MIMIC-IV database\n",
    "icd_diagnoses_codes = vaex.open('mimic-iv-2.2/hosp/d_icd_diagnoses.csv')\n",
    "icd_diagnoses = vaex.open('mimic-iv-2.2/hosp/diagnoses_icd.csv')"
   ]
  },
  {
   "cell_type": "markdown",
   "id": "0f93113e-a829-4d66-b21c-a3649c4cdbb3",
   "metadata": {
    "tags": []
   },
   "source": [
    "## Modality Overlap"
   ]
  },
  {
   "cell_type": "markdown",
   "id": "1e77833c-f397-450a-b91d-ac3954aecddf",
   "metadata": {},
   "source": [
    "### All patients\n",
    "Shows the number of unique patients from the entire MIMIC-IV dataset for which each of the different data modalities (CXR image, radiology note and discharge note) is available."
   ]
  },
  {
   "cell_type": "code",
   "execution_count": null,
   "id": "d1fa62a5-f92e-4314-ab75-97325ae1f59c",
   "metadata": {
    "tags": []
   },
   "outputs": [],
   "source": [
    "num_core = len(patients_df.subject_id.unique())\n",
    "patients_cxr = set(cxr_df.subject_id.unique())\n",
    "patients_discharge = set(discharge_meta_df.subject_id.unique())\n",
    "patients_radiology = set(radiology_meta_df.subject_id.unique())\n",
    "\n",
    "only_cxr = len(patients_cxr - patients_discharge - patients_radiology)\n",
    "only_discharge = len(patients_discharge - patients_cxr - patients_radiology)\n",
    "only_radiology = len(patients_radiology - patients_cxr - patients_discharge)\n",
    "cxr_discharge = len((patients_cxr & patients_discharge) - patients_radiology)\n",
    "cxr_radiology = len((patients_cxr & patients_radiology) - patients_discharge)\n",
    "discharge_radiology = len((patients_discharge & patients_radiology) - patients_cxr)\n",
    "all_data = len(patients_cxr & patients_discharge & patients_radiology)\n",
    "\n",
    "print(f\"Total MIMIC-IV patients: {num_core}\")\n",
    "print(f\"Total patients with at least one additional modality: {len(patients_cxr | patients_discharge | patients_radiology)}\")\n",
    "venn3(\n",
    "    subsets=(only_cxr, only_discharge, cxr_discharge, only_radiology, cxr_radiology, discharge_radiology, all_data),\n",
    "    set_labels=(\"CXR\", \"Discharge\", \"Radiology\")\n",
    ")\n",
    "plt.show()"
   ]
  },
  {
   "cell_type": "markdown",
   "id": "e25ab18e-a794-4ec0-97cf-ac2848f05d49",
   "metadata": {},
   "source": [
    "### ICU Patients\n",
    "Shows similar statistic as the cell above, but restricts the set of patients to those with ICU data available."
   ]
  },
  {
   "cell_type": "code",
   "execution_count": null,
   "id": "795dc8d6-bfb7-40ad-9dad-fb7406292204",
   "metadata": {
    "tags": []
   },
   "outputs": [],
   "source": [
    "num_core = len(patients_df.subject_id.unique())\n",
    "patients_icu = set(chartevents_df.subject_id.unique())\n",
    "num_icu = len(patients_icu)\n",
    "patients_cxr = set(cxr_df.subject_id.unique()) & patients_icu\n",
    "patients_discharge = set(discharge_meta_df.subject_id.unique()) & patients_icu\n",
    "patients_radiology = set(radiology_meta_df.subject_id.unique()) & patients_icu\n",
    "\n",
    "only_cxr = len(patients_cxr - patients_discharge - patients_radiology)\n",
    "only_discharge = len(patients_discharge - patients_cxr - patients_radiology)\n",
    "only_radiology = len(patients_radiology - patients_cxr - patients_discharge)\n",
    "cxr_discharge = len((patients_cxr & patients_discharge) - patients_radiology)\n",
    "cxr_radiology = len((patients_cxr & patients_radiology) - patients_discharge)\n",
    "discharge_radiology = len((patients_discharge & patients_radiology) - patients_cxr)\n",
    "all_data = len(patients_cxr & patients_discharge & patients_radiology)\n",
    "\n",
    "print(f\"Total MIMIC-IV patients: {num_core}\")\n",
    "print(f\"Total MIMIC-IV ICU patients: {num_icu}\")\n",
    "print(f\"Total patients with at least one additional modality: {len(patients_cxr | patients_discharge | patients_radiology)}\")\n",
    "venn3(\n",
    "    subsets=(only_cxr, only_discharge, cxr_discharge, only_radiology, cxr_radiology, discharge_radiology, all_data),\n",
    "    set_labels=(\"CXR\", \"Discharge\", \"Radiology\")\n",
    ")\n",
    "plt.show()"
   ]
  },
  {
   "cell_type": "markdown",
   "id": "d0e18546-7c69-494b-91e2-62a866ed8a80",
   "metadata": {
    "tags": []
   },
   "source": [
    "## Data Completeness\n",
    "Displays the most common values in the `chartevents` ICU table and the associated information, including the typical sampling rate per 24 hours (`rate`) and the number of unique ICU patients for which at least one such value was recorded (`subject_id_nunique`). The produced table only displays information for values recorded for at least $10000$ patients (roughly $20\\%$ of all ICU patients)."
   ]
  },
  {
   "cell_type": "code",
   "execution_count": null,
   "id": "9c98b354-cbc4-443d-be00-0189c4452007",
   "metadata": {
    "tags": []
   },
   "outputs": [],
   "source": [
    "event_counts_df = chartevents_df.groupby(\"itemid\").agg('count')\n",
    "event_counts_df = event_counts_df.join(items_df, left_on='itemid', right_on='itemid')\n",
    "event_counts_df.drop(columns=[\"linksto\", \"lownormalvalue\", \"highnormalvalue\"], inplace=True)\n",
    "patient_event_counts_df = chartevents_df[[\"itemid\", \"subject_id\"]].groupby(\"itemid\").agg('nunique')\n",
    "event_counts_df[\"rate\"] = event_counts_df[\"count\"] / icustays_df[\"los\"].sum()\n",
    "event_counts_df = event_counts_df.join(patient_event_counts_df, left_on='itemid', right_on='itemid')\n",
    "event_counts_df = event_counts_df[event_counts_df[\"subject_id_nunique\"] > 10000]"
   ]
  },
  {
   "cell_type": "code",
   "execution_count": null,
   "id": "5a43e6a0-1254-483d-beb8-45e5b61cb6ad",
   "metadata": {},
   "outputs": [],
   "source": [
    "event_counts_df = event_counts_df.sort(by=\"subject_id_nunique\", ascending=False)\n",
    "vaex.settings.display.max_rows = 700\n",
    "event_counts_df"
   ]
  },
  {
   "cell_type": "markdown",
   "id": "6985d997-d8a8-493b-841f-c29e47e311b2",
   "metadata": {},
   "source": [
    "## ICD Diagnoses\n",
    "Shows the $100$ most common ICD-10 diagnoses assigned at the end of each hospital stay for billing purposes. Note that there could be up to $39$ diagnoses for each hospital stay. The `seq_num` column in the `diagnoses_icd` table provides the approximate ordering of diagnoses in terms of their \"importance\", but this information is considered unreliable (the billing department is not particularly incentivised to enter a highly accurate ranking and there are certain specific rules for some conditions, e.g. sepsis should always be ranked second with the associated infectious agent ranked first). The code below groups diagnoses by the first three digits of the ICD-10 code in order to obtain more general categories.\n",
    "\n",
    "**TODO:** The code below only considers patients for which diagnosis was entered using ICD-10 code. The diagnoses information for many patients was entered using the older ICD-9 system — we should convert the ICD-9 codes to ICD-10 and then compute the statistics for a more accurate result."
   ]
  },
  {
   "cell_type": "code",
   "execution_count": null,
   "id": "b0db0a49-3741-4fbc-ad2f-2e8e9d7fc1d0",
   "metadata": {},
   "outputs": [],
   "source": [
    "# TODO: Convert ICD-9 codes\n",
    "icd_10_icu_patients = icd_diagnoses[icd_diagnoses[\"subject_id\"].isin(list(patients_icu))][icd_diagnoses[\"icd_version\"] == 10]\n",
    "icd_10_icu_patients[\"icd_code\"] = icd_10_icu_patients.apply(lambda code: code[0:3], [icd_10_icu_patients.icd_code])\n",
    "icd_10_counts = icd_10_icu_patients.groupby(\"icd_code\").agg('count').sort(by=\"count\", ascending=False)\n",
    "icd_10_counts = icd_10_counts.join(icd_diagnoses_codes[icd_diagnoses_codes[\"icd_version\"] == 10], left_on=\"icd_code\", right_on=\"icd_code\")"
   ]
  },
  {
   "cell_type": "code",
   "execution_count": null,
   "id": "58332f92-92c3-403e-b71c-691fc7330c30",
   "metadata": {
    "tags": []
   },
   "outputs": [],
   "source": [
    "vaex.settings.display.max_rows = 100\n",
    "icd_10_counts[0:100]"
   ]
  },
  {
   "cell_type": "markdown",
   "id": "fbec81a7-c448-4b5d-894c-68f77a416063",
   "metadata": {},
   "source": [
    "## Mortality"
   ]
  },
  {
   "cell_type": "markdown",
   "id": "31394bff-6b1e-4725-9bf7-af1d1479f389",
   "metadata": {},
   "source": [
    "### In-Hospital"
   ]
  },
  {
   "cell_type": "code",
   "execution_count": null,
   "id": "63723e8f-bd51-4205-83e0-cb67db05ab66",
   "metadata": {
    "tags": []
   },
   "outputs": [],
   "source": [
    "total_admitted = admissions_df.subject_id.nunique()\n",
    "died_in_hospital = admissions_df[admissions_df[\"hospital_expire_flag\"] == 1].subject_id.nunique()\n",
    "mortality_rate = np.round(100 * (died_in_hospital / total_admitted), 1)\n",
    "print(f\"{died_in_hospital}/{total_admitted} ({mortality_rate}%) of all admitted patients died in hospital\")\n",
    "plot_progress(mortality_rate, \"cyan\", \"In-Hospital Mortality (All)\")\n",
    "\n",
    "admissions_with_icu_df = admissions_df[admissions_df[\"subject_id\"].isin(chartevents_df.subject_id.unique())]\n",
    "total_admitted = admissions_with_icu_df.subject_id.nunique()\n",
    "died_in_hospital = admissions_with_icu_df[admissions_with_icu_df[\"hospital_expire_flag\"] == 1].subject_id.nunique()\n",
    "mortality_rate = np.round(100 * (died_in_hospital / total_admitted), 1)\n",
    "print(f\"{died_in_hospital}/{total_admitted} ({mortality_rate}%) of ICU patients died in hospital\")\n",
    "plot_progress(mortality_rate, \"cyan\", \"In-Hospital Mortality (ICU)\")"
   ]
  },
  {
   "cell_type": "markdown",
   "id": "75ca6ab4-3297-45c3-87c1-988ae0488ccd",
   "metadata": {},
   "source": [
    "### Total\n",
    "**Note:** Out-of-hospital mortality data are censored one year after the last hospital visit for each patient."
   ]
  },
  {
   "cell_type": "code",
   "execution_count": null,
   "id": "6c9ed972-23a4-481c-ac09-94adc25d59d7",
   "metadata": {
    "tags": []
   },
   "outputs": [],
   "source": [
    "total_patients = patients_df.subject_id.nunique()\n",
    "died = patients_df[~patients_df[\"dod\"].ismissing()].subject_id.nunique()\n",
    "mortality_rate = np.round(100 * (died / total_patients), 1)\n",
    "print(f\"{died}/{total_patients} ({mortality_rate}%) of all patients died\")\n",
    "plot_progress(mortality_rate, \"cyan\", \"Total Mortality (All)\")\n",
    "\n",
    "patients_with_icu_df = patients_df[patients_df[\"subject_id\"].isin(chartevents_df.subject_id.unique())]\n",
    "total_patients = patients_with_icu_df.subject_id.nunique()\n",
    "died = patients_df[~patients_with_icu_df[\"dod\"].ismissing()].subject_id.nunique()\n",
    "mortality_rate = np.round(100 * (died / total_patients), 1)\n",
    "print(f\"{died}/{total_patients} ({mortality_rate}%) of all ICU patients died\")\n",
    "plot_progress(mortality_rate, \"cyan\", \"Total Mortality (ICU)\")"
   ]
  },
  {
   "cell_type": "markdown",
   "id": "d45c13af-1ada-4219-9000-dd507456e8d6",
   "metadata": {},
   "source": [
    "## Age"
   ]
  },
  {
   "cell_type": "code",
   "execution_count": null,
   "id": "9d88c58a-e93d-4623-89b2-073229564e44",
   "metadata": {
    "tags": []
   },
   "outputs": [],
   "source": [
    "def compute_age_statistics(admissions_df, patient_group, show=False):\n",
    "    admissions_anchors_df = admissions_df.join(patients_df[[\"subject_id\", \"anchor_year\", \"anchor_age\"]], left_on=\"subject_id\", right_on=\"subject_id\")\n",
    "    admissions_anchors_df[\"admitage\"] = admissions_anchors_df[\"admittime\"].dt.year - admissions_anchors_df[\"anchor_year\"] + admissions_anchors_df[\"anchor_age\"]\n",
    "    admissions_anchors_df[\"admitage\"] = admissions_anchors_df.apply(lambda age: min(age, 91), [admissions_anchors_df.admitage])\n",
    "    patient_ages_series = admissions_anchors_df[\"admitage\"]\n",
    "    patient_ages_list = admissions_anchors_df[\"admitage\"].tolist()\n",
    "    \n",
    "    print(f\"Age statistics for {patient_group}\")\n",
    "    print(f\"Mean: {patient_ages_series.mean()}, std: {patient_ages_series.std()}\")\n",
    "    print(f\"Quantiles [0.25, 0.5, 0.75]: {[np.quantile(patient_ages_list, q) for q in [0.25, 0.5, 0.75]]}\")\n",
    "    sns.histplot(data=patient_ages_list, binwidth=1, label=patient_group)\n",
    "    plt.title(f\"Patient Age Distribution\")\n",
    "    if show:\n",
    "        plt.show()\n",
    "    \n",
    "compute_age_statistics(admissions_df, \"All patients\")\n",
    "print()\n",
    "admissions_with_icu_df = admissions_df[admissions_df[\"subject_id\"].isin(chartevents_df.subject_id.unique())]\n",
    "compute_age_statistics(admissions_with_icu_df, \"ICU patients\")\n",
    "plt.show()"
   ]
  },
  {
   "cell_type": "markdown",
   "id": "55e0826a-7934-4bbd-9ca5-3a105fd4aafd",
   "metadata": {
    "tags": []
   },
   "source": [
    "## Gender"
   ]
  },
  {
   "cell_type": "code",
   "execution_count": null,
   "id": "d77714bd-d6bf-40d6-9be2-8d1f8d71d4b7",
   "metadata": {
    "tags": []
   },
   "outputs": [],
   "source": [
    "def autopct_format(values):\n",
    "    def format_fun(pct):\n",
    "        total = sum(values)\n",
    "        absolute = int(pct / 100. * total + 0.5)\n",
    "        return \"{:.1f}%\\n({:d})\".format(pct, absolute)\n",
    "    \n",
    "    return format_fun\n",
    "\n",
    "gender_counts = patients_df[\"gender\"].value_counts()\n",
    "plt.figure(figsize=(3, 3))\n",
    "plt.pie(gender_counts, labels=gender_counts.index, colors=[\"pink\", \"cyan\"], autopct=autopct_format(gender_counts), startangle=90)\n",
    "plt.title(\"Patient Gender Distribution (All)\")\n",
    "plt.show()\n",
    "\n",
    "patients_with_icu_df = patients_df[patients_df[\"subject_id\"].isin(chartevents_df.subject_id.unique())]\n",
    "gender_counts = patients_with_icu_df[\"gender\"].value_counts()\n",
    "plt.figure(figsize=(3, 3))\n",
    "plt.pie(gender_counts, labels=gender_counts.index, colors=[\"cyan\", \"pink\"], autopct=autopct_format(gender_counts), startangle=90)\n",
    "plt.title(\"Patient Gender Distribution (ICU)\")\n",
    "plt.show()"
   ]
  },
  {
   "cell_type": "markdown",
   "id": "55d7a2a2-057b-46dd-9c48-a7f18c8df2d6",
   "metadata": {},
   "source": [
    "# Dataset Generation"
   ]
  },
  {
   "cell_type": "markdown",
   "id": "7465df86-4594-4540-9f40-332abb97d57c",
   "metadata": {},
   "source": [
    "First, get the very first ICU stay record for each patient. For simplicity, we do not currently consider further ICU stays."
   ]
  },
  {
   "cell_type": "code",
   "execution_count": null,
   "id": "272084e8-fe62-414f-9b85-3e7ac7f60048",
   "metadata": {
    "tags": []
   },
   "outputs": [],
   "source": [
    "DATETIME_FORMAT = \"%Y-%m-%d %H:%M:%S.%f\"\n",
    "\n",
    "earliest_icu_stay_dates_df = icustays_df.groupby(\"subject_id\").agg({\"intime\": \"min\"})\n",
    "\n",
    "# Vaex is currently unable to join on multiple columns, so we construct an auxiliary column as a workaround\n",
    "# Also, we use strftime instead of astype('str') to avoid a weird Vaex issue when converting datetime to string\n",
    "earliest_icu_stay_dates_df[\"subject_id_intime\"] = earliest_icu_stay_dates_df.subject_id.astype('str') + earliest_icu_stay_dates_df.intime.dt.strftime(DATETIME_FORMAT)\n",
    "icustays_df[\"subject_id_intime\"] = icustays_df.subject_id.astype('str') + icustays_df.intime.dt.strftime(DATETIME_FORMAT)\n",
    "\n",
    "earliest_icu_stays_df = icustays_df.join(earliest_icu_stay_dates_df, left_on=\"subject_id_intime\", right_on=\"subject_id_intime\", rsuffix=\"_tmp\", how=\"inner\")\n",
    "earliest_icu_stays_df.drop(columns=[\n",
    "    \"last_careunit\", \"los\", \"subject_id_intime\", \"subject_id_tmp\", \"intime_tmp\", \"subject_id_intime_tmp\",\n",
    "], inplace=True)\n",
    "None"
   ]
  },
  {
   "cell_type": "markdown",
   "id": "6940755e-5de4-40c7-bf17-34fce8d0b1cb",
   "metadata": {},
   "source": [
    "Join the ICU records with the available admissions data."
   ]
  },
  {
   "cell_type": "code",
   "execution_count": null,
   "id": "6a983d64-c407-4c1a-90e3-f6b804731456",
   "metadata": {
    "tags": []
   },
   "outputs": [],
   "source": [
    "filtered_admissions_df = admissions_df.drop(columns=[\n",
    "    \"admit_provider_id\", \"discharge_location\", \"insurance\", \"language\", \"marital_status\",\n",
    "    \"edregtime\", \"edouttime\"\n",
    "])\n",
    "\n",
    "filtered_stays_df = earliest_icu_stays_df.join(filtered_admissions_df, left_on=\"hadm_id\", right_on=\"hadm_id\", rsuffix=\"_icu\", how=\"inner\")"
   ]
  },
  {
   "cell_type": "markdown",
   "id": "5ff520e7-6daa-4675-b69e-24cfca76da5d",
   "metadata": {},
   "source": [
    "Add information from the patients table, compute the age of all patients and filter out the stays for patients with anonymised age (90 years and older)."
   ]
  },
  {
   "cell_type": "code",
   "execution_count": null,
   "id": "7dba662d-98d1-4d16-a313-79a9f967fa71",
   "metadata": {
    "tags": []
   },
   "outputs": [],
   "source": [
    "filtered_stays_age_df = filtered_stays_df.join(patients_df[[\"subject_id\", \"anchor_year\", \"anchor_age\", \"gender\", \"dod\"]], left_on=\"subject_id\", right_on=\"subject_id\", how=\"inner\")\n",
    "filtered_stays_age_df[\"admitage\"] = filtered_stays_age_df[\"admittime\"].dt.year - filtered_stays_age_df[\"anchor_year\"] + filtered_stays_age_df[\"anchor_age\"]\n",
    "filtered_stays_age_df[\"admitage\"] = filtered_stays_age_df.apply(lambda age: min(age, 91), [filtered_stays_age_df.admitage])\n",
    "filtered_stays_age_df = filtered_stays_age_df[filtered_stays_age_df[\"admitage\"] < 91]"
   ]
  },
  {
   "cell_type": "markdown",
   "id": "b7886f3f-0418-454e-9af2-7779582087e8",
   "metadata": {},
   "source": [
    "Compute the 30-day mortality flag to be used as a label (indicating whether the patient died within 30 days of being admitted to an ICU)."
   ]
  },
  {
   "cell_type": "code",
   "execution_count": null,
   "id": "d0bc4849-4784-43b3-9c2a-bb05e26a001a",
   "metadata": {
    "tags": []
   },
   "outputs": [],
   "source": [
    "filtered_stays_deaths = filtered_stays_age_df.copy()\n",
    "filtered_stays_deaths[\"dod\"] = filtered_stays_deaths.dod.astype(\"datetime64\")\n",
    "filtered_stays_deaths[\"time_to_death\"] = filtered_stays_deaths[\"dod\"] - filtered_stays_deaths[\"intime\"]\n",
    "filtered_stays_deaths[\"died_30_days\"] = filtered_stays_deaths.apply(lambda ttd: ttd is not None and ttd < datetime.timedelta(days=30), [filtered_stays_deaths.time_to_death])"
   ]
  },
  {
   "cell_type": "markdown",
   "id": "62955a84-c19c-4be4-8615-5bf05ab5dc74",
   "metadata": {},
   "source": [
    "Add the medical features, measured at the start of the ICU stay (heart rate, SpO2, respiratory rate, weight, blood pressure mean, temperature)"
   ]
  },
  {
   "cell_type": "code",
   "execution_count": null,
   "id": "bfcc2bc5-2e05-48a0-9467-37d12a447268",
   "metadata": {
    "tags": []
   },
   "outputs": [],
   "source": [
    "SELECTED_FEATURES = [\"HR\", \"SpO2\", \"RR\", \"Admission Weight (Kg)\", \"NBPm\", \"Temperature F\"]\n",
    "\n",
    "selected_items_defs_df = items_df[items_df.abbreviation.isin(SELECTED_FEATURES)]\n",
    "selected_items_defs_df.drop(columns=[\n",
    "    \"label\", \"linksto\", \"category\", \"unitname\", \"param_type\", \"lownormalvalue\", \"highnormalvalue\"\n",
    "])\n",
    "selected_events_df = chartevents_df.join(selected_items_defs_df, left_on=\"itemid\", right_on=\"itemid\", how=\"inner\")"
   ]
  },
  {
   "cell_type": "code",
   "execution_count": null,
   "id": "10fac00b-c483-4cd6-bd4a-667f606df7b1",
   "metadata": {
    "tags": []
   },
   "outputs": [],
   "source": [
    "# Select only the first measurement of each feature per ICU stay\n",
    "# This operation is a bit lengthy, so it's being performed in a separate cell\n",
    "earliest_icu_event_dates_df = selected_events_df.groupby([\"stay_id\", \"itemid\"]).agg({\"charttime\": \"min\"})"
   ]
  },
  {
   "cell_type": "code",
   "execution_count": null,
   "id": "9ffc951c-15eb-4396-ad6a-4e5f4a84b8a1",
   "metadata": {
    "tags": []
   },
   "outputs": [],
   "source": [
    "# We use a similar trick for joining on multiple columns as above\n",
    "earliest_icu_event_dates_df[\"stay_id_itemid_charttime\"] = earliest_icu_event_dates_df.stay_id.astype('str') + earliest_icu_event_dates_df.itemid.astype('str') + earliest_icu_event_dates_df.charttime.dt.strftime(DATETIME_FORMAT)\n",
    "selected_events_df[\"stay_id_itemid_charttime\"] = selected_events_df.stay_id.astype('str') + selected_events_df.itemid.astype('str') + selected_events_df.charttime.dt.strftime(DATETIME_FORMAT)\n",
    "\n",
    "earliest_selected_events_df = selected_events_df.join(earliest_icu_event_dates_df, left_on=\"stay_id_itemid_charttime\", right_on=\"stay_id_itemid_charttime\", rsuffix=\"_tmp\", how=\"inner\")\n",
    "earliest_selected_events_df.drop(columns=[\n",
    "    \"caregiver_id\", \"storetime\", \"value\", \"warning\", \"label\", \"linksto\", \"category\", \"unitname\", \"param_type\",\n",
    "    \"lownormalvalue\", \"highnormalvalue\", \"stay_id_itemid_charttime\", \"stay_id_tmp\", \"itemid_tmp\", \"charttime_tmp\",\n",
    "    \"stay_id_itemid_charttime_tmp\", \"subject_id\", \"hadm_id\", \"charttime\", \"itemid\", \"valueuom\"\n",
    "], inplace=True)\n",
    "earliest_selected_events_df = earliest_selected_events_df.join(filtered_stays_deaths[[\"stay_id\"]], left_on=\"stay_id\", right_on=\"stay_id\", how=\"inner\", rsuffix=\"_tmp\")\n",
    "earliest_selected_events_df.drop(columns=\"stay_id_tmp\", inplace=True)\n",
    "None"
   ]
  },
  {
   "cell_type": "code",
   "execution_count": null,
   "id": "6ed51830-2be9-4ee0-91d1-f657623cd80d",
   "metadata": {
    "tags": []
   },
   "outputs": [],
   "source": [
    "# Now, we need to transpose the events data frame so that the medical features are\n",
    "# in different columns rather than different rows. We do this operation in Pandas\n",
    "# as Vaex doesn't support transforming the shape of the data frame.\n",
    "\n",
    "FEATURE_RENAME_TABLE = {\n",
    "    \"Admission Weight (Kg)\": \"admission_weight\",\n",
    "    \"HR\": \"hr\",\n",
    "    \"NBPm\": \"mbp\",\n",
    "    \"RR\": \"rr\",\n",
    "    \"SpO2\": \"spo2\",\n",
    "    \"Temperature F\": \"temperature\",\n",
    "    \"\": \"stay_id\",\n",
    "}\n",
    "\n",
    "earliest_selected_events_pd_df = earliest_selected_events_df.to_pandas_df()\n",
    "medical_features_pd_df = earliest_selected_events_pd_df.pivot(index=\"stay_id\", columns=\"abbreviation\")\n",
    "\n",
    "# Reset the index and drop its topmost level\n",
    "medical_features_pd_df = medical_features_pd_df.reset_index().droplevel(0, axis=1).dropna().rename_axis(None, axis=1)\n",
    "medical_features_pd_df.rename(columns=FEATURE_RENAME_TABLE, inplace=True)\n",
    "medical_features_df = vaex.from_pandas(medical_features_pd_df)"
   ]
  },
  {
   "cell_type": "code",
   "execution_count": null,
   "id": "4f2b23fb-fc21-43b6-aa39-2fa2cf544176",
   "metadata": {
    "tags": []
   },
   "outputs": [],
   "source": [
    "# Finally, we join the medical features with the rest of the data\n",
    "data_df = medical_features_df.join(filtered_stays_deaths, left_on=\"stay_id\", right_on=\"stay_id\", how=\"inner\")\n",
    "data_df.drop(columns=[\n",
    "    \"intime\", \"outtime\", \"admittime\", \"dischtime\", \"deathtime\", \"hospital_expire_flag\", \"anchor_year\",\n",
    "    \"anchor_age\", \"dod\", \"time_to_death\"\n",
    "], inplace=True)\n",
    "None"
   ]
  },
  {
   "cell_type": "markdown",
   "id": "7b776652-8cba-4a5a-8da7-2d166c4b1824",
   "metadata": {},
   "source": [
    "# Additional Processing"
   ]
  },
  {
   "cell_type": "markdown",
   "id": "39bd072f-d10a-4b1b-ac3c-c48ca6bf8018",
   "metadata": {
    "tags": []
   },
   "source": [
    "## Initial Preview\n",
    "Display a preview of the dataset"
   ]
  },
  {
   "cell_type": "code",
   "execution_count": null,
   "id": "d1ec4818-c5a1-4241-85b4-b9a91ff71f5c",
   "metadata": {
    "tags": []
   },
   "outputs": [],
   "source": [
    "data_df"
   ]
  },
  {
   "cell_type": "markdown",
   "id": "4c6ee5cd-0b6f-41a4-a3d3-ad9574b71b4d",
   "metadata": {},
   "source": [
    "Print basic statistics about the data (IDs and non-numeric features omitted here)"
   ]
  },
  {
   "cell_type": "code",
   "execution_count": null,
   "id": "69f7a419-6df1-40ad-82c1-c24e522a83b7",
   "metadata": {
    "tags": []
   },
   "outputs": [],
   "source": [
    "NUMERIC_FEATURES = [\"admission_weight\", \"hr\", \"mbp\", \"rr\", \"spo2\", \"temperature\", \"admitage\"]\n",
    "data_df[NUMERIC_FEATURES].describe()"
   ]
  },
  {
   "cell_type": "markdown",
   "id": "347b1330-84fd-4d60-8875-abefea88ffac",
   "metadata": {},
   "source": [
    "## Data Cleaning\n",
    "Filter data to exclude records with implausible values."
   ]
  },
  {
   "cell_type": "code",
   "execution_count": null,
   "id": "f94790ba-790d-43b0-9422-99f8f4c110d3",
   "metadata": {
    "tags": []
   },
   "outputs": [],
   "source": [
    "NUMERIC_FEATURE_RANGES = {\n",
    "    \"admission_weight\": (3, 650),\n",
    "    \"hr\": (25, 480),\n",
    "    \"mbp\": (20, 250),\n",
    "    \"rr\": (1, 100),\n",
    "    \"spo2\": (40, 100),\n",
    "    \"temperature\": (40, 115),\n",
    "    \"admitage\": (18, 100)\n",
    "}\n",
    "\n",
    "for feature, (minimum, maximum) in NUMERIC_FEATURE_RANGES.items():\n",
    "    data_df = data_df[data_df[feature] >= minimum]\n",
    "    data_df = data_df[data_df[feature] <= maximum]\n",
    "    \n",
    "data_df.drop(columns=[\n",
    "    \"stay_id\", \"subject_id\", \"hadm_id\", \"first_careunit\", \"subject_id_icu\", \"hadm_id_icu\", \"admission_location\", \"race\"\n",
    "], inplace=True)\n",
    "None"
   ]
  },
  {
   "cell_type": "markdown",
   "id": "edf7c2c8-4045-4ce6-ac15-0b83278b92a8",
   "metadata": {},
   "source": [
    "## Final Statistics\n",
    "Show the final data statistics"
   ]
  },
  {
   "cell_type": "code",
   "execution_count": null,
   "id": "ee6897ff-0a17-443b-96bd-2a7b29f3dd42",
   "metadata": {
    "tags": []
   },
   "outputs": [],
   "source": [
    "data_df"
   ]
  },
  {
   "cell_type": "code",
   "execution_count": null,
   "id": "2f3d3858-ee61-4a94-a2e3-16341c2a940d",
   "metadata": {
    "tags": []
   },
   "outputs": [],
   "source": [
    "data_df[NUMERIC_FEATURES].describe()"
   ]
  },
  {
   "cell_type": "code",
   "execution_count": null,
   "id": "1e989e41-f885-4e0e-972b-5d47dd700051",
   "metadata": {
    "tags": []
   },
   "outputs": [],
   "source": [
    "died = len(data_df[data_df[\"died_30_days\"]])\n",
    "total = len(data_df)\n",
    "mortality_rate = get_percentage(died, total)\n",
    "print(f\"{died}/{total} ({mortality_rate}%) of all patients died\")\n",
    "plot_progress(mortality_rate, \"cyan\", \"30-day Patient Mortality\")"
   ]
  },
  {
   "cell_type": "code",
   "execution_count": null,
   "id": "e4d789df-fad6-43ec-98ff-bd2d6519c345",
   "metadata": {
    "tags": []
   },
   "outputs": [],
   "source": [
    "def autopct_format(values):\n",
    "    def format_fun(pct):\n",
    "        total = sum(values)\n",
    "        absolute = int(pct / 100. * total + 0.5)\n",
    "        return \"{:.1f}%\\n({:d})\".format(pct, absolute)\n",
    "    \n",
    "    return format_fun\n",
    "\n",
    "gender_counts = data_df[\"gender\"].value_counts()\n",
    "plt.figure(figsize=(3, 3))\n",
    "plt.pie(gender_counts, labels=gender_counts.index, colors=[\"cyan\", \"pink\"], autopct=autopct_format(gender_counts), startangle=90)\n",
    "plt.title(\"Patient Gender Distribution\")\n",
    "plt.show()"
   ]
  },
  {
   "cell_type": "code",
   "execution_count": null,
   "id": "91818fcc-40ba-4bb3-8aff-1aae524fe357",
   "metadata": {
    "tags": []
   },
   "outputs": [],
   "source": [
    "data_df[\"admission_type\"].value_counts()"
   ]
  },
  {
   "cell_type": "code",
   "execution_count": null,
   "id": "cca082bd-f559-44fe-8953-e2dc3661b1ac",
   "metadata": {
    "tags": []
   },
   "outputs": [],
   "source": [
    "sns.heatmap(data_df.drop(columns=[\"admission_type\", \"gender\"]).to_pandas_df().corr(numeric_only=False), annot=True)"
   ]
  },
  {
   "cell_type": "code",
   "execution_count": null,
   "id": "2c7f6ade-b72e-4991-a630-8567465c9bdb",
   "metadata": {
    "tags": []
   },
   "outputs": [],
   "source": [
    "data_df.export('./simple_mimic.csv')"
   ]
  },
  {
   "cell_type": "markdown",
   "id": "f5997ed1-f1f1-4c47-ae81-945e2e2506b9",
   "metadata": {},
   "source": [
    "## Final Data Processing"
   ]
  },
  {
   "cell_type": "code",
   "execution_count": null,
   "id": "4932deb0-0b57-47f5-8ec3-afc29e5c935c",
   "metadata": {
    "tags": []
   },
   "outputs": [],
   "source": [
    "data_df = vaex.read_csv('./simple_mimic.csv')"
   ]
  }
 ],
 "metadata": {
  "kernelspec": {
   "display_name": "Python 3 (ipykernel)",
   "language": "python",
   "name": "python3"
  },
  "language_info": {
   "codemirror_mode": {
    "name": "ipython",
    "version": 3
   },
   "file_extension": ".py",
   "mimetype": "text/x-python",
   "name": "python",
   "nbconvert_exporter": "python",
   "pygments_lexer": "ipython3",
   "version": "3.10.13"
  }
 },
 "nbformat": 4,
 "nbformat_minor": 5
}
